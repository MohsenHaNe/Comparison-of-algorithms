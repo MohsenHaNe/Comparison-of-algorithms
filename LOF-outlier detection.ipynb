{
 "cells": [
  {
   "cell_type": "code",
   "execution_count": null,
   "id": "d65ddc63-b67f-4086-85c7-a9249edd3677",
   "metadata": {},
   "outputs": [],
   "source": [
    "from sklearn.neighbors import LocalOutlierFactor\n",
    "from sklearn.metrics import silhouette_score\n",
    "import pandas as pd\n",
    "import numpy as np"
   ]
  },
  {
   "cell_type": "code",
   "execution_count": null,
   "id": "35c9ed0d-0917-4427-a513-dcf579fc296d",
   "metadata": {
    "scrolled": true
   },
   "outputs": [],
   "source": [
    "data = pd.read_csv('creditcard.csv')\n",
    "data.head()"
   ]
  },
  {
   "cell_type": "code",
   "execution_count": null,
   "id": "40dfb385-943a-4271-873b-ceda23ca0f2f",
   "metadata": {},
   "outputs": [],
   "source": [
    "df = data.drop('Class',axis=1)"
   ]
  },
  {
   "cell_type": "code",
   "execution_count": null,
   "id": "0e61b643-8623-4157-9f85-d28049a3f3b5",
   "metadata": {},
   "outputs": [],
   "source": [
    "df.head(5)"
   ]
  },
  {
   "cell_type": "code",
   "execution_count": null,
   "id": "04fa1c8d-87c3-4b86-b8e5-6a433f0251ea",
   "metadata": {},
   "outputs": [],
   "source": [
    "data.info()"
   ]
  },
  {
   "cell_type": "code",
   "execution_count": null,
   "id": "55ae4413-1e85-4e39-8561-b580b477855e",
   "metadata": {},
   "outputs": [],
   "source": [
    "data.describe()"
   ]
  },
  {
   "cell_type": "code",
   "execution_count": null,
   "id": "151f3dc8-3809-4142-a31b-89e3d59b7ea8",
   "metadata": {},
   "outputs": [],
   "source": [
    "np.unique(data['Class'], return_counts=True)\n",
    "intact = 284315\n",
    "Fraud = 492"
   ]
  },
  {
   "cell_type": "code",
   "execution_count": null,
   "id": "fbd6c39d-fd16-41d4-ab15-dee1d23cc034",
   "metadata": {},
   "outputs": [],
   "source": [
    "contamination = np.round(Fraud / intact , 3)\n",
    "contamination"
   ]
  },
  {
   "cell_type": "code",
   "execution_count": null,
   "id": "6730d975-ca7e-4094-9055-49debaf26be4",
   "metadata": {},
   "outputs": [],
   "source": [
    "model = LocalOutlierFactor(n_neighbors=3,contamination=contamination) # contamination  == Data impurity percentage"
   ]
  },
  {
   "cell_type": "code",
   "execution_count": null,
   "id": "c61716e6-ce48-4eb9-8efb-29f9e27dfd21",
   "metadata": {},
   "outputs": [],
   "source": [
    "y_pred = model.fit_predict(df)"
   ]
  },
  {
   "cell_type": "code",
   "execution_count": null,
   "id": "480f9383-97e0-422f-acf4-1681871996e2",
   "metadata": {},
   "outputs": [],
   "source": [
    "y_true= data['Class']"
   ]
  },
  {
   "cell_type": "code",
   "execution_count": null,
   "id": "f2bcd04d-f05b-4a7e-b44c-e2a7d8b9ba20",
   "metadata": {},
   "outputs": [],
   "source": [
    "score = silhouette_score(y_pred,y_true)"
   ]
  },
  {
   "cell_type": "code",
   "execution_count": null,
   "id": "5b60cc06-99da-45bd-8a19-ff194cc26629",
   "metadata": {},
   "outputs": [],
   "source": []
  }
 ],
 "metadata": {
  "kernelspec": {
   "display_name": "Python 3 (ipykernel)",
   "language": "python",
   "name": "python3"
  },
  "language_info": {
   "codemirror_mode": {
    "name": "ipython",
    "version": 3
   },
   "file_extension": ".py",
   "mimetype": "text/x-python",
   "name": "python",
   "nbconvert_exporter": "python",
   "pygments_lexer": "ipython3",
   "version": "3.12.3"
  }
 },
 "nbformat": 4,
 "nbformat_minor": 5
}
